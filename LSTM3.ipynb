{
  "cells": [
    {
      "cell_type": "markdown",
      "metadata": {
        "id": "4-hZjg7F2vWT"
      },
      "source": [
        "#Load The Data Set"
      ]
    },
    {
      "cell_type": "code",
      "execution_count": null,
      "metadata": {
        "colab": {
          "base_uri": "https://localhost:8080/"
        },
        "id": "cK7BVpLovShp",
        "outputId": "5678bcde-4fcd-4451-8a9c-d6b441fffb60"
      },
      "outputs": [
        {
          "name": "stdout",
          "output_type": "stream",
          "text": [
            "Drive already mounted at /content/drive; to attempt to forcibly remount, call drive.mount(\"/content/drive\", force_remount=True).\n",
            "Archive:  /content/drive/MyDrive/DL/CNN_Articels_clean.zip\n",
            "  inflating: /content/CNN_Articels_clean.csv  \n",
            "First few rows of the dataset:\n",
            "   Index                                             Author  \\\n",
            "0      0                                 Jacopo Prisco, CNN   \n",
            "1      1                              Stephanie Bailey, CNN   \n",
            "2      2  Words by Stephanie Bailey, video by Zahra Jamshed   \n",
            "3      3                                     Kathryn Vasel    \n",
            "4      4                    Paul R. La Monica, CNN Business   \n",
            "\n",
            "        Date published  Category    Section  \\\n",
            "0  2021-07-15 02:46:59      news      world   \n",
            "1  2021-05-12 07:52:09      news      world   \n",
            "2  2021-06-16 02:51:30      news       asia   \n",
            "3  2022-03-18 14:37:21  business    success   \n",
            "4  2022-03-19 11:41:08  business  investing   \n",
            "\n",
            "                                                 Url  \\\n",
            "0  https://www.cnn.com/2021/07/14/world/tusimple-...   \n",
            "1  https://www.cnn.com/2021/05/12/world/ironhand-...   \n",
            "2  https://www.cnn.com/2021/06/15/asia/swarm-robo...   \n",
            "3  https://www.cnn.com/2022/03/18/success/pandemi...   \n",
            "4  https://www.cnn.com/2022/03/19/investing/march...   \n",
            "\n",
            "                                            Headline  \\\n",
            "0  There's a shortage of truckers, but TuSimple t...   \n",
            "1  Bioservo's robotic 'Ironhand' could protect fa...   \n",
            "2  This swarm of robots gets smarter the more it ...   \n",
            "3  Two years later, remote work has changed milli...   \n",
            "4          Why March is so volatile for stocks - CNN   \n",
            "\n",
            "                                         Description  \\\n",
            "0  The e-commerce boom has exacerbated a global t...   \n",
            "1  Working in a factory can mean doing the same t...   \n",
            "2  In a Hong Kong warehouse, a swarm of autonomou...   \n",
            "3  Here's a look at how the pandemic reshaped peo...   \n",
            "4  March Madness isn't just for college basketbal...   \n",
            "\n",
            "                                            Keywords  \\\n",
            "0  world, There's a shortage of truckers, but TuS...   \n",
            "1  world, Bioservo's robotic 'Ironhand' could pro...   \n",
            "2  asia, This swarm of robots gets smarter the mo...   \n",
            "3  success, Two years later, remote work has chan...   \n",
            "4  investing, Why March is so volatile for stocks...   \n",
            "\n",
            "                                     Second headline  \\\n",
            "0  There's a shortage of truckers, but TuSimple t...   \n",
            "1  A robotic 'Ironhand' could protect factory wor...   \n",
            "2  This swarm of robots gets smarter the more it ...   \n",
            "3  Two years later, remote work has changed milli...   \n",
            "4                Why March is so volatile for stocks   \n",
            "\n",
            "                                        Article text  \n",
            "0   (CNN)Right now, there's a shortage of truck d...  \n",
            "1   (CNN)Working in a factory or warehouse can me...  \n",
            "2   (CNN)In a Hong Kong warehouse, a swarm of aut...  \n",
            "3  The pandemic thrust the working world into a n...  \n",
            "4  New York (CNN Business)March Madness isn't jus...  \n",
            "\n",
            "Missing values in each column:\n",
            "Index              0\n",
            "Author             0\n",
            "Date published     0\n",
            "Category           0\n",
            "Section            0\n",
            "Url                0\n",
            "Headline           0\n",
            "Description        0\n",
            "Keywords           0\n",
            "Second headline    0\n",
            "Article text       9\n",
            "dtype: int64\n",
            "\n",
            "Data Summary:\n",
            "<class 'pandas.core.frame.DataFrame'>\n",
            "RangeIndex: 37949 entries, 0 to 37948\n",
            "Data columns (total 11 columns):\n",
            " #   Column           Non-Null Count  Dtype \n",
            "---  ------           --------------  ----- \n",
            " 0   Index            37949 non-null  int64 \n",
            " 1   Author           37949 non-null  object\n",
            " 2   Date published   37949 non-null  object\n",
            " 3   Category         37949 non-null  object\n",
            " 4   Section          37949 non-null  object\n",
            " 5   Url              37949 non-null  object\n",
            " 6   Headline         37949 non-null  object\n",
            " 7   Description      37949 non-null  object\n",
            " 8   Keywords         37949 non-null  object\n",
            " 9   Second headline  37949 non-null  object\n",
            " 10  Article text     37940 non-null  object\n",
            "dtypes: int64(1), object(10)\n",
            "memory usage: 3.2+ MB\n",
            "None\n",
            "\n",
            "Distribution of categories:\n",
            "Category\n",
            "news             18077\n",
            "sport            15542\n",
            "politics          2461\n",
            "business           854\n",
            "health             557\n",
            "entertainment      413\n",
            "travel              39\n",
            "vr                   5\n",
            "style                1\n",
            "Name: count, dtype: int64\n"
          ]
        }
      ],
      "source": [
        "import pandas as pd\n",
        "from google.colab import drive\n",
        "\n",
        "drive.mount('/content/drive')\n",
        "# Unzip the file\n",
        "!unzip '/content/drive/MyDrive/DL/CNN_Articels_clean.zip' -d '/content/'\n",
        "\n",
        "# Load the dataset\n",
        "df = pd.read_csv('/content/CNN_Articels_clean.csv')\n",
        "\n",
        "# Check the first few rows of the dataset\n",
        "print(\"First few rows of the dataset:\")\n",
        "print(df.head())\n",
        "\n",
        "# Check for missing values\n",
        "print(\"\\nMissing values in each column:\")\n",
        "print(df.isnull().sum())\n",
        "\n",
        "# Get a summary of the data types and non-null counts\n",
        "print(\"\\nData Summary:\")\n",
        "print(df.info())\n",
        "\n",
        "# Check the distribution of categories\n",
        "print(\"\\nDistribution of categories:\")\n",
        "print(df['Category'].value_counts())"
      ]
    },
    {
      "cell_type": "markdown",
      "metadata": {
        "id": "NCcwoky43BZ6"
      },
      "source": [
        "#Clean Data Set"
      ]
    },
    {
      "cell_type": "code",
      "execution_count": null,
      "metadata": {
        "colab": {
          "base_uri": "https://localhost:8080/"
        },
        "id": "YECYds3NvYAq",
        "outputId": "98ebdc71-75ab-4de6-83aa-2831fe140f69"
      },
      "outputs": [
        {
          "name": "stdout",
          "output_type": "stream",
          "text": [
            "\n",
            "Missing values after cleaning:\n",
            "Index              0\n",
            "Author             0\n",
            "Date published     0\n",
            "Category           0\n",
            "Section            0\n",
            "Url                0\n",
            "Headline           0\n",
            "Description        0\n",
            "Keywords           0\n",
            "Second headline    0\n",
            "Article text       0\n",
            "dtype: int64\n"
          ]
        }
      ],
      "source": [
        "# Drop rows with missing 'Article text'\n",
        "df_cleaned = df.dropna(subset=['Article text'])\n",
        "\n",
        "# Verify there are no more missing values in the 'Article text' column\n",
        "print(\"\\nMissing values after cleaning:\")\n",
        "print(df_cleaned.isnull().sum())"
      ]
    },
    {
      "cell_type": "code",
      "execution_count": null,
      "metadata": {
        "colab": {
          "base_uri": "https://localhost:8080/"
        },
        "id": "3NAZ95aIvaaB",
        "outputId": "2ea11a6b-de0f-4be1-e9b0-150ad1778471"
      },
      "outputs": [
        {
          "name": "stdout",
          "output_type": "stream",
          "text": [
            "0    Right now, there's a shortage of truck drivers...\n",
            "1    Working in a factory or warehouse can mean doi...\n",
            "2    In a Hong Kong warehouse, a swarm of autonomou...\n",
            "3    The pandemic thrust the working world into a n...\n",
            "4    New York (CNN Business)March Madness isn't jus...\n",
            "Name: Article text, dtype: object\n"
          ]
        },
        {
          "name": "stderr",
          "output_type": "stream",
          "text": [
            "<ipython-input-9-d6b8de0340dc>:9: SettingWithCopyWarning: \n",
            "A value is trying to be set on a copy of a slice from a DataFrame.\n",
            "Try using .loc[row_indexer,col_indexer] = value instead\n",
            "\n",
            "See the caveats in the documentation: https://pandas.pydata.org/pandas-docs/stable/user_guide/indexing.html#returning-a-view-versus-a-copy\n",
            "  df_cleaned['Article text'] = df_cleaned['Article text'].apply(remove_cnn_phrase)\n"
          ]
        }
      ],
      "source": [
        "import re\n",
        "\n",
        "# Function to remove the phrase '(CNN)' from the article text\n",
        "def remove_cnn_phrase(text):\n",
        "    # Remove variations of (CNN), (cnn), or extra spaces\n",
        "    return re.sub(r'\\(cnn\\)|\\(CNN\\)', '', text).strip()\n",
        "\n",
        "# Apply the function to the 'Article text' column\n",
        "df_cleaned['Article text'] = df_cleaned['Article text'].apply(remove_cnn_phrase)\n",
        "\n",
        "# Check weather '(CNN)' was successfully removed\n",
        "print(df_cleaned['Article text'].head())\n"
      ]
    },
    {
      "cell_type": "code",
      "execution_count": null,
      "metadata": {
        "colab": {
          "base_uri": "https://localhost:8080/"
        },
        "id": "P_iUV81WveYB",
        "outputId": "1a90efda-9df9-429c-c382-8764ab3ab6ba"
      },
      "outputs": [
        {
          "name": "stdout",
          "output_type": "stream",
          "text": [
            "\n",
            "Invalid dates after conversion:\n",
            "Empty DataFrame\n",
            "Columns: [Index, Author, Date published, Category, Section, Url, Headline, Description, Keywords, Second headline, Article text]\n",
            "Index: []\n",
            "\n",
            "Final dataset shape after cleaning:\n",
            "(37940, 11)\n"
          ]
        },
        {
          "name": "stderr",
          "output_type": "stream",
          "text": [
            "<ipython-input-10-c97cd517248b>:2: SettingWithCopyWarning: \n",
            "A value is trying to be set on a copy of a slice from a DataFrame.\n",
            "Try using .loc[row_indexer,col_indexer] = value instead\n",
            "\n",
            "See the caveats in the documentation: https://pandas.pydata.org/pandas-docs/stable/user_guide/indexing.html#returning-a-view-versus-a-copy\n",
            "  df_cleaned['Date published'] = pd.to_datetime(df_cleaned['Date published'], errors='coerce')\n"
          ]
        }
      ],
      "source": [
        "# Convert 'Date published' to datetime format\n",
        "df_cleaned['Date published'] = pd.to_datetime(df_cleaned['Date published'], errors='coerce')\n",
        "\n",
        "# Check for any invalid dates that couldn't be converted\n",
        "print(\"\\nInvalid dates after conversion:\")\n",
        "print(df_cleaned[df_cleaned['Date published'].isnull()])\n",
        "\n",
        "# Drop rows with invalid dates, if necessary\n",
        "df_cleaned = df_cleaned.dropna(subset=['Date published'])\n",
        "\n",
        "# Check final shape of the cleaned dataset\n",
        "print(\"\\nFinal dataset shape after cleaning:\")\n",
        "print(df_cleaned.shape)"
      ]
    },
    {
      "cell_type": "code",
      "execution_count": null,
      "metadata": {
        "id": "iLOdxkLmvhGY"
      },
      "outputs": [],
      "source": [
        "# Save the cleaned dataset to a new CSV file\n",
        "df_cleaned.to_csv('data/cnn_articles_cleaned.csv', index=False)"
      ]
    },
    {
      "cell_type": "markdown",
      "metadata": {
        "id": "-IDkX-H53NYr"
      },
      "source": [
        "#Data Preprocessing"
      ]
    },
    {
      "cell_type": "code",
      "execution_count": null,
      "metadata": {
        "colab": {
          "base_uri": "https://localhost:8080/"
        },
        "id": "XmI4In0_3UyD",
        "outputId": "011a9e1e-0033-4c20-daca-11ec74287e42"
      },
      "outputs": [
        {
          "name": "stderr",
          "output_type": "stream",
          "text": [
            "[nltk_data] Downloading package stopwords to /root/nltk_data...\n",
            "[nltk_data]   Unzipping corpora/stopwords.zip.\n",
            "[nltk_data] Downloading package punkt to /root/nltk_data...\n",
            "[nltk_data]   Unzipping tokenizers/punkt.zip.\n"
          ]
        },
        {
          "name": "stdout",
          "output_type": "stream",
          "text": [
            "                                        Article text  \\\n",
            "0  Right now, there's a shortage of truck drivers...   \n",
            "1  Working in a factory or warehouse can mean doi...   \n",
            "2  In a Hong Kong warehouse, a swarm of autonomou...   \n",
            "3  The pandemic thrust the working world into a n...   \n",
            "4  New York (CNN Business)March Madness isn't jus...   \n",
            "\n",
            "                                        cleaned_text  \n",
            "0  right theres shortage truck drivers us worldwi...  \n",
            "1  working factory warehouse mean task repetition...  \n",
            "2  hong kong warehouse swarm autonomous robots wo...  \n",
            "3  pandemic thrust working world new reality marc...  \n",
            "4  new york cnn businessmarch madness isnt colleg...  \n"
          ]
        }
      ],
      "source": [
        "import re\n",
        "import nltk\n",
        "from nltk.corpus import stopwords\n",
        "from nltk.tokenize import word_tokenize\n",
        "\n",
        "# Download stopwords from NLTK\n",
        "nltk.download('stopwords')\n",
        "nltk.download('punkt')\n",
        "\n",
        "# Define stop words\n",
        "stop_words = set(stopwords.words('english'))\n",
        "\n",
        "# Function for text preprocessing\n",
        "def preprocess_text(text):\n",
        "    # Lowercase the text\n",
        "    text = text.lower()\n",
        "\n",
        "    # Remove punctuation and special characters\n",
        "    text = re.sub(r'[^\\w\\s]', '', text)\n",
        "\n",
        "    # Tokenize the text\n",
        "    words = word_tokenize(text)\n",
        "\n",
        "    # Remove stop words\n",
        "    words = [word for word in words if word not in stop_words]\n",
        "\n",
        "    # Join the words back into a single string\n",
        "    return ' '.join(words)\n",
        "\n",
        "# Apply preprocessing to the 'Article text' column\n",
        "df_cleaned['cleaned_text'] = df_cleaned['Article text'].apply(preprocess_text)\n",
        "\n",
        "# Check the first few rows of the cleaned text\n",
        "print(df_cleaned[['Article text', 'cleaned_text']].head())"
      ]
    },
    {
      "cell_type": "markdown",
      "metadata": {
        "id": "HEAvrBGa3Xha"
      },
      "source": [
        "#Tokenization and Padding"
      ]
    },
    {
      "cell_type": "code",
      "execution_count": null,
      "metadata": {
        "colab": {
          "base_uri": "https://localhost:8080/"
        },
        "id": "lMro_SX93gnq",
        "outputId": "87d8c9f5-9d18-41db-970f-214256a58586"
      },
      "outputs": [
        {
          "name": "stdout",
          "output_type": "stream",
          "text": [
            "Shape of X (features): (37940, 100)\n",
            "Shape of y (labels): (37940,)\n"
          ]
        }
      ],
      "source": [
        "from tensorflow.keras.preprocessing.text import Tokenizer\n",
        "from tensorflow.keras.preprocessing.sequence import pad_sequences\n",
        "\n",
        "# Define the maximum number of words to use (top 20,000 most frequent words)\n",
        "max_words = 20000\n",
        "# Define the maximum length of a sequence (for padding)\n",
        "max_len = 100\n",
        "\n",
        "# Initialize the tokenizer and fit on the cleaned text\n",
        "tokenizer = Tokenizer(num_words=max_words)\n",
        "tokenizer.fit_on_texts(df_cleaned['cleaned_text'])\n",
        "\n",
        "# Convert text to sequences of integers\n",
        "sequences = tokenizer.texts_to_sequences(df_cleaned['cleaned_text'])\n",
        "\n",
        "# Apply padding to ensure all sequences have the same length\n",
        "X = pad_sequences(sequences, maxlen=max_len)\n",
        "\n",
        "# Convert categories to integer labels (for classification)\n",
        "from sklearn.preprocessing import LabelEncoder\n",
        "\n",
        "# Initialize the label encoder\n",
        "label_encoder = LabelEncoder()\n",
        "y = label_encoder.fit_transform(df_cleaned['Category'])\n",
        "\n",
        "# Train, test data split\n",
        "X_train, X_test, y_train, y_test = train_test_split(X, y, test_size=0.2, random_state=42)\n",
        "\n",
        "# Print shapes of the final processed data\n",
        "print(\"Shape of X (features):\", X.shape)\n",
        "print(\"Shape of y (labels):\", y.shape)"
      ]
    }
  ],
  "metadata": {
    "accelerator": "GPU",
    "colab": {
      "gpuType": "T4",
      "provenance": []
    },
    "kernelspec": {
      "display_name": "Python 3",
      "name": "python3"
    },
    "language_info": {
      "name": "python"
    }
  },
  "nbformat": 4,
  "nbformat_minor": 0
}
